{
 "cells": [
  {
   "cell_type": "code",
   "execution_count": 48,
   "metadata": {
    "collapsed": false
   },
   "outputs": [],
   "source": [
    "from random import shuffle"
   ]
  },
  {
   "cell_type": "code",
   "execution_count": 49,
   "metadata": {
    "collapsed": false
   },
   "outputs": [],
   "source": [
    "def shuffle_deck():\n",
    "    deck = range(2,11) * 4\n",
    "    deck = deck + ['J', 'Q', 'K', 'A']*4\n",
    "    shuffle(deck)\n",
    "    return deck"
   ]
  },
  {
   "cell_type": "code",
   "execution_count": 79,
   "metadata": {
    "collapsed": false
   },
   "outputs": [],
   "source": [
    "class BlackJack :\n",
    "    def __init__(self, deck) :\n",
    "        self.deck = deck\n",
    "        self.dealer = []\n",
    "        self.player = []\n",
    "        self.win = False\n",
    "        self.d_stand = False\n",
    "        self.p_stand = False\n",
    "\n",
    "    def deal_p(self) :\n",
    "        card = self.deck.pop()\n",
    "        print('The card is {}'.format(card))\n",
    "        self.player.append(card)\n",
    "        return\n",
    "    \n",
    "    def deal_d(self) :\n",
    "        self.dealer.append(self.deck.pop())\n",
    "        return\n",
    "    \n",
    "    def count(self, hand) :\n",
    "        As = 0\n",
    "        n = 0\n",
    "        for card in hand:\n",
    "            if card == 'A' :\n",
    "                As += 1\n",
    "            elif card == 'J' or card == 'Q' or card == 'K' :\n",
    "                n += 10\n",
    "            else :\n",
    "                n += card\n",
    "        return As, n\n",
    "    \n",
    "    def dealer_play(self):\n",
    "        As, n = self.count(self.dealer) \n",
    "        if n >= 17 or n + As > 17:\n",
    "            self.d_stand = True\n",
    "            return\n",
    "        self.deal_d()\n",
    "        \n",
    "    \n",
    "    def player_play(self, re) :\n",
    "        if re == 'Hit' :\n",
    "            self.deal_p()\n",
    "        if re == 'Stand' :\n",
    "            self.p_stand = True\n",
    "        return\n",
    "    \n",
    "    def play(self) :\n",
    "        def get_score(As, n) :\n",
    "            score = n + As\n",
    "            for i in range(As) :\n",
    "                if score + 10 > 21:\n",
    "                    break\n",
    "                score += 10\n",
    "            return score\n",
    "        def display() :\n",
    "            print('The dealer\\'s cards are ' + ','.join([str(x) for x in self.dealer]) + '.')\n",
    "        \n",
    "        # deal the cards\n",
    "        self.deal_p()\n",
    "        self.deal_d()\n",
    "        self.deal_p()\n",
    "        self.deal_d()\n",
    "        print('The dealer\\'s second card is {}'.format(self.dealer[1]))\n",
    "        \n",
    "        # win the game if the player hits 21 and the dealer is not 21\n",
    "        p_As, p_n = self.count(self.player)\n",
    "        d_As, d_n = self.count(self.dealer)\n",
    "        if p_As == 1 and p_n == 10:\n",
    "            if d_As != 1 or d_n != 10:\n",
    "                self.win = True\n",
    "                return\n",
    "        \n",
    "        while not self.d_stand or not self.p_stand :\n",
    "            if not self.p_stand :\n",
    "                print('Your cards are '+ ','.join([str(x) for x in self.player]) + '.')\n",
    "                p_As, p_n = self.count(self.player)\n",
    "                print('Your score is {}'.format(get_score(p_As, p_n)))\n",
    "                rep = raw_input('Please type \\'Hit\\' to hit and \\'Stand\\' to stand ->')\n",
    "                self.player_play(rep)\n",
    "                p_As, p_n = self.count(self.player)\n",
    "                # bust\n",
    "                if p_As + p_n > 21 :\n",
    "                    self.win = False\n",
    "                    display()\n",
    "                    return \n",
    "            \n",
    "            if not self.d_stand :\n",
    "                self.dealer_play()\n",
    "                d_As, d_n = self.count(self.dealer)\n",
    "                # dealer bust\n",
    "                if d_As + d_n > 21 :\n",
    "                    self.win = True\n",
    "                    display()\n",
    "                    return\n",
    "        p_As, p_n = self.count(self.player)\n",
    "        p_score = get_score(p_As, p_n)\n",
    "        d_As, d_n = self.count(self.dealer)\n",
    "        d_score = get_score(d_As, d_n)\n",
    "        self.win = p_score > d_score\n",
    "        display()\n",
    "        return\n",
    "        "
   ]
  },
  {
   "cell_type": "code",
   "execution_count": 80,
   "metadata": {
    "collapsed": true
   },
   "outputs": [],
   "source": [
    "def main() :\n",
    "    ans = raw_input(\"Ready to start ? (Y/N) ->\")\n",
    "    if ans == 'Y':\n",
    "        num = 0\n",
    "        win = 0\n",
    "        deck = []\n",
    "        while ans == 'Y' :\n",
    "            if num % 6 == 0:\n",
    "                deck = shuffle_deck()\n",
    "            x = BlackJack(deck)\n",
    "            x.play()\n",
    "            if x.win :\n",
    "                print('You win !')\n",
    "                win += 1\n",
    "            else :\n",
    "                print('You lose !')\n",
    "            num += 1\n",
    "            win_percent = win * 1.0 / num\n",
    "            print ('Win percentage is {}'.format(win_percent))\n",
    "            ans = raw_input(\"Continue ? (Y/N) ->\")\n",
    "                "
   ]
  },
  {
   "cell_type": "code",
   "execution_count": 81,
   "metadata": {
    "collapsed": false
   },
   "outputs": [
    {
     "name": "stdout",
     "output_type": "stream",
     "text": [
      "Ready to start ? (Y/N) ->Y\n",
      "The card is K\n",
      "The card is J\n",
      "The dealer's second card is K\n",
      "Your cards are K,J.\n",
      "Your score is 20\n",
      "Please type 'Hit' to hit and 'Stand' to stand ->Stand\n",
      "The dealer's cards are 10,K.\n",
      "You lose !\n",
      "Win percentage is 0.0\n",
      "Continue ? (Y/N) ->Y\n",
      "The card is 6\n",
      "The card is 8\n",
      "The dealer's second card is Q\n",
      "Your cards are 6,8.\n",
      "Your score is 14\n",
      "Please type 'Hit' to hit and 'Stand' to stand ->Hit\n",
      "The card is 8\n",
      "The dealer's cards are 5,Q.\n",
      "You lose !\n",
      "Win percentage is 0.0\n",
      "Continue ? (Y/N) ->N\n"
     ]
    }
   ],
   "source": [
    "if __name__ == '__main__': main()"
   ]
  }
 ],
 "metadata": {
  "kernelspec": {
   "display_name": "Python 2",
   "language": "python",
   "name": "python2"
  },
  "language_info": {
   "codemirror_mode": {
    "name": "ipython",
    "version": 2
   },
   "file_extension": ".py",
   "mimetype": "text/x-python",
   "name": "python",
   "nbconvert_exporter": "python",
   "pygments_lexer": "ipython2",
   "version": "2.7.13"
  }
 },
 "nbformat": 4,
 "nbformat_minor": 2
}
